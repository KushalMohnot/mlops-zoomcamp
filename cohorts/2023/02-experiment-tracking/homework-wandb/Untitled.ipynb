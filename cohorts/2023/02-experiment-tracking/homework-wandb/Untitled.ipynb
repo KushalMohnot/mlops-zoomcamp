{
 "cells": [
  {
   "cell_type": "code",
   "execution_count": 1,
   "id": "c42b5d89",
   "metadata": {},
   "outputs": [
    {
     "name": "stdout",
     "output_type": "stream",
     "text": [
      "wandb, version 0.15.3\r\n"
     ]
    }
   ],
   "source": [
    "!wandb --version"
   ]
  },
  {
   "cell_type": "code",
   "execution_count": 2,
   "id": "699e3135",
   "metadata": {
    "scrolled": true
   },
   "outputs": [
    {
     "name": "stdout",
     "output_type": "stream",
     "text": [
      "--2023-06-06 05:50:34--  https://d37ci6vzurychx.cloudfront.net/trip-data/green_tripdata_2022-01.parquet\n",
      "Resolving d37ci6vzurychx.cloudfront.net (d37ci6vzurychx.cloudfront.net)... 13.225.141.158, 13.225.141.98, 13.225.141.174, ...\n",
      "Connecting to d37ci6vzurychx.cloudfront.net (d37ci6vzurychx.cloudfront.net)|13.225.141.158|:443... connected.\n",
      "HTTP request sent, awaiting response... 200 OK\n",
      "Length: 1254291 (1.2M) [binary/octet-stream]\n",
      "Saving to: ‘green_tripdata_2022-01.parquet’\n",
      "\n",
      "green_tripdata_2022 100%[===================>]   1.20M  --.-KB/s    in 0.01s   \n",
      "\n",
      "2023-06-06 05:50:34 (111 MB/s) - ‘green_tripdata_2022-01.parquet’ saved [1254291/1254291]\n",
      "\n",
      "--2023-06-06 05:50:35--  https://d37ci6vzurychx.cloudfront.net/trip-data/green_tripdata_2022-02.parquet\n",
      "Resolving d37ci6vzurychx.cloudfront.net (d37ci6vzurychx.cloudfront.net)... 13.225.141.174, 13.225.141.98, 13.225.141.105, ...\n",
      "Connecting to d37ci6vzurychx.cloudfront.net (d37ci6vzurychx.cloudfront.net)|13.225.141.174|:443... connected.\n",
      "HTTP request sent, awaiting response... 200 OK\n",
      "Length: 1428262 (1.4M) [binary/octet-stream]\n",
      "Saving to: ‘green_tripdata_2022-02.parquet’\n",
      "\n",
      "green_tripdata_2022 100%[===================>]   1.36M  --.-KB/s    in 0.006s  \n",
      "\n",
      "2023-06-06 05:50:35 (211 MB/s) - ‘green_tripdata_2022-02.parquet’ saved [1428262/1428262]\n",
      "\n",
      "--2023-06-06 05:50:35--  https://d37ci6vzurychx.cloudfront.net/trip-data/green_tripdata_2022-03.parquet\n",
      "Resolving d37ci6vzurychx.cloudfront.net (d37ci6vzurychx.cloudfront.net)... 13.225.141.98, 13.225.141.158, 13.225.141.105, ...\n",
      "Connecting to d37ci6vzurychx.cloudfront.net (d37ci6vzurychx.cloudfront.net)|13.225.141.98|:443... connected.\n",
      "HTTP request sent, awaiting response... 200 OK\n",
      "Length: 1615562 (1.5M) [binary/octet-stream]\n",
      "Saving to: ‘green_tripdata_2022-03.parquet’\n",
      "\n",
      "green_tripdata_2022 100%[===================>]   1.54M  --.-KB/s    in 0.02s   \n",
      "\n",
      "2023-06-06 05:50:35 (87.9 MB/s) - ‘green_tripdata_2022-03.parquet’ saved [1615562/1615562]\n",
      "\n"
     ]
    }
   ],
   "source": [
    "!wget https://d37ci6vzurychx.cloudfront.net/trip-data/green_tripdata_2022-01.parquet\n",
    "!wget https://d37ci6vzurychx.cloudfront.net/trip-data/green_tripdata_2022-02.parquet\n",
    "!wget https://d37ci6vzurychx.cloudfront.net/trip-data/green_tripdata_2022-03.parquet"
   ]
  },
  {
   "cell_type": "code",
   "execution_count": null,
   "id": "64228939",
   "metadata": {},
   "outputs": [],
   "source": []
  },
  {
   "cell_type": "code",
   "execution_count": null,
   "id": "ab22d9a3",
   "metadata": {},
   "outputs": [],
   "source": []
  },
  {
   "cell_type": "markdown",
   "id": "22b45547",
   "metadata": {},
   "source": [
    "python preprocess_data.py --wandb_project hw2 --wandb_entity kushalm --raw_data_path ./ --dest_path ./output\n",
    "\n",
    "DV is 153.7 kb"
   ]
  },
  {
   "cell_type": "markdown",
   "id": "aadb6447",
   "metadata": {},
   "source": [
    "python train.py --wandb_project hw2 --wandb_entity kushalm --data_artifact \"kushalm/hw2/NYC-Taxi:v0\"\n",
    "\n",
    "max depth is 10"
   ]
  },
  {
   "cell_type": "markdown",
   "id": "85f1fadd",
   "metadata": {},
   "source": [
    "python sweep.py --wandb_project hw2 --wandb_entity kushalm --data_artifact \"kushalm/hw2/NYC-Taxi:v0\"\n",
    "\n",
    "min_samples_split is the most important wrt MSE with importance of 0.66"
   ]
  },
  {
   "cell_type": "code",
   "execution_count": null,
   "id": "32187b7f",
   "metadata": {},
   "outputs": [],
   "source": []
  }
 ],
 "metadata": {
  "kernelspec": {
   "display_name": "Python 3 (ipykernel)",
   "language": "python",
   "name": "python3"
  },
  "language_info": {
   "codemirror_mode": {
    "name": "ipython",
    "version": 3
   },
   "file_extension": ".py",
   "mimetype": "text/x-python",
   "name": "python",
   "nbconvert_exporter": "python",
   "pygments_lexer": "ipython3",
   "version": "3.9.16"
  }
 },
 "nbformat": 4,
 "nbformat_minor": 5
}
